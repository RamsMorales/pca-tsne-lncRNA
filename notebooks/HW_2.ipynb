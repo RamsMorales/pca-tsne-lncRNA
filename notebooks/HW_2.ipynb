{
 "cells": [
  {
   "cell_type": "markdown",
   "id": "0c4fa4ad",
   "metadata": {},
   "source": [
    "# HW 2: PCA and t-SNE Ramson Munoz Morales"
   ]
  },
  {
   "cell_type": "code",
   "execution_count": 1,
   "id": "100db9ec",
   "metadata": {},
   "outputs": [
    {
     "data": {
      "text/html": [
       "\n",
       "<style>\n",
       "/* center the main column */\n",
       "div#notebook, .jp-Notebook {\n",
       "  max-width: 900px;\n",
       "  margin: 0 auto !important;\n",
       "}\n",
       "\n",
       "/* hide In[ ] and Out[ ] prompts */\n",
       "div.prompt, .jp-InputPrompt, .jp-OutputPrompt {\n",
       "  display: none !important;\n",
       "}\n",
       "\n",
       "/* wrap long code lines (editor + rendered html) */\n",
       ".CodeMirror pre { white-space: pre-wrap; word-break: break-word; }\n",
       ".jp-Notebook .cm-content { white-space: pre-wrap; word-break: break-word; }\n",
       ".rendered_html pre, .highlight pre { white-space: pre-wrap; word-break: break-word; }\n",
       "</style>\n"
      ],
      "text/plain": [
       "<IPython.core.display.HTML object>"
      ]
     },
     "execution_count": 1,
     "metadata": {},
     "output_type": "execute_result"
    }
   ],
   "source": [
    "from IPython.display import HTML\n",
    "HTML(\"\"\"\n",
    "<style>\n",
    "/* center the main column */\n",
    "div#notebook, .jp-Notebook {\n",
    "  max-width: 900px;\n",
    "  margin: 0 auto !important;\n",
    "}\n",
    "\n",
    "/* hide In[ ] and Out[ ] prompts */\n",
    "div.prompt, .jp-InputPrompt, .jp-OutputPrompt {\n",
    "  display: none !important;\n",
    "}\n",
    "\n",
    "/* wrap long code lines (editor + rendered html) */\n",
    ".CodeMirror pre { white-space: pre-wrap; word-break: break-word; }\n",
    ".jp-Notebook .cm-content { white-space: pre-wrap; word-break: break-word; }\n",
    ".rendered_html pre, .highlight pre { white-space: pre-wrap; word-break: break-word; }\n",
    "</style>\n",
    "\"\"\")\n"
   ]
  },
  {
   "cell_type": "markdown",
   "id": "b36ddbea",
   "metadata": {},
   "source": [
    "## Loading Data"
   ]
  },
  {
   "cell_type": "code",
   "execution_count": 2,
   "id": "254e32c1",
   "metadata": {},
   "outputs": [],
   "source": [
    "import pandas as pd\n",
    "from pathlib import Path\n",
    "\n",
    "ROOT = Path.cwd().parent if Path.cwd().name == \"notebooks\" else Path.cwd()\n",
    "DATA_DIR = ROOT / \"data\"\n",
    "SPLIT_DIR = ROOT / DATA_DIR / \"cv_splits\"\n",
    "SPLIT_DIR.mkdir(parents=True,exist_ok=True)\n",
    "\n",
    "data_file_name = \"lncRNA_5_Cancers.csv\"\n",
    "data_path = DATA_DIR / data_file_name\n",
    "\n",
    "data = pd.read_csv(data_path)\n",
    "#print(data)"
   ]
  },
  {
   "cell_type": "markdown",
   "id": "a6967dd8",
   "metadata": {},
   "source": [
    "## Task 1\n",
    "\n",
    "Task 1: [25 points] Visualize the lncRNA expression data of five different cancer types using\n",
    "PCA. Reduce the data dimension from 12,309 to two (PC1 and PC2) dimensions and plot the\n",
    "data into reduced dimensions. Must plot all the data of five cancer types.\n",
    "\n",
    "With the data loaded, we will be applying the Sci kit learn implmentation of PCA and t-SNE.\n",
    "### Running the Dimension Reduction"
   ]
  },
  {
   "cell_type": "code",
   "execution_count": 3,
   "id": "d16f0495",
   "metadata": {},
   "outputs": [
    {
     "name": "stdout",
     "output_type": "stream",
     "text": [
      "Percent Variance explained by unscaled PCA_Feature_1: 14.82\n",
      "Percent Variance explained by unscaled PCA_Feature_2: 10.18\n",
      "Percent Variance explained by scaled PCA_Feature_1: 11.65\n",
      "Percent Variance explained by scaled PCA_Feature_2: 4.90\n"
     ]
    }
   ],
   "source": [
    "import numpy as np \n",
    "from sklearn.decomposition import PCA\n",
    "from sklearn.preprocessing import StandardScaler\n",
    "\n",
    "pca = PCA(n_components=2)# initializing a PCA object that will redecue dimension of input to 2\n",
    "scaled_pca = PCA(n_components=2)\n",
    "# Selecting features from data table \n",
    "feature_set = data.to_numpy()[:,1:data.shape[1] - 1]\n",
    "#print(feature_set.shape)\n",
    "\n",
    "# Scalling Data\n",
    "scaled_features = StandardScaler().fit_transform(feature_set)\n",
    "\n",
    "# Applying reduction\n",
    "#components = pca.fit_transform(scaled_features)\n",
    "components = pca.fit_transform(feature_set)\n",
    "scaled_components = scaled_pca.fit_transform(scaled_features)\n",
    "\n",
    "# Diagnostic report on chosen components\n",
    "var_explained = pca.explained_variance_ratio_ * 100\n",
    "scaled_var_explained = scaled_pca.explained_variance_ratio_ * 100\n",
    "print(\"Percent Variance explained by unscaled PCA_Feature_1: %.2f\" % var_explained[0])\n",
    "print(\"Percent Variance explained by unscaled PCA_Feature_2: %.2f\" % var_explained[1])\n",
    "print(\"Percent Variance explained by scaled PCA_Feature_1: %.2f\" % scaled_var_explained[0])\n",
    "print(\"Percent Variance explained by scaled PCA_Feature_2: %.2f\" % scaled_var_explained[1])"
   ]
  },
  {
   "cell_type": "markdown",
   "id": "adb0c3b0",
   "metadata": {},
   "source": [
    "These values seem a little low. I may have implemented this in correctly. Checking Scree plot to see what the components distribution looks like"
   ]
  },
  {
   "cell_type": "code",
   "execution_count": 4,
   "id": "49d6ddf5",
   "metadata": {},
   "outputs": [
    {
     "data": {
      "image/png": "[encoded data removed]",
      "text/plain": [
       "<Figure size 640x480 with 1 Axes>"
      ]
     },
     "metadata": {},
     "output_type": "display_data"
    }
   ],
   "source": [
    "import matplotlib.pyplot as plt\n",
    "pca_full = PCA()\n",
    "scaled_pca_full = PCA()\n",
    "\n",
    "scaled_pca_full.fit(scaled_features)\n",
    "pca_full.fit(feature_set)\n",
    "'''\n",
    "Running the fit on the full feature set without specifying the n_components defaults to returning all components which allows a view of the distribution of components.\n",
    "'''\n",
    "features = np.arange(pca_full.n_components_) + 1 # +1 because index starts at 0 and this makes it human readable in the plot this is effectively doing [n_1, ..., n_k] + [1,...,1]\n",
    "plt.plot(features,pca_full.explained_variance_ratio_ * 100,\n",
    "         linestyle='-',\n",
    "         color='blue',           # line color\n",
    "         marker='o',\n",
    "         markerfacecolor='blue', # dot fill\n",
    "         markeredgecolor='blue', linewidth=2)\n",
    "\n",
    "# Testing against scaled data\n",
    "scaled_pca_full.fit(scaled_features)\n",
    "scaledfeatures = np.arange(scaled_pca_full.n_components_) + 1 # +1 because index starts at 0 and this makes it human readable in the plot this is effectively doing [n_1, ..., n_k] + [1,...,1]\n",
    "plt.plot(scaledfeatures,scaled_pca_full.explained_variance_ratio_ * 100,\n",
    "         linestyle='-',\n",
    "         color='red',           # line color\n",
    "         marker='o',\n",
    "         markerfacecolor='red', # dot fill\n",
    "         markeredgecolor='red', linewidth=2)\n",
    "\n",
    "plt.title(\"Scree Plot\")\n",
    "plt.xlabel(\"Number of components\")\n",
    "plt.ylabel(\"% data explained\")\n",
    "plt.show()"
   ]
  },
  {
   "cell_type": "markdown",
   "id": "31cec28e",
   "metadata": {},
   "source": [
    "This provides a little more confidence. The chosen components are in line with what I expect given the scree plot. Although it is curious to note that we dont return the feature dimenson, rather the sample dimension. if we include all components. There might be something up here with the way it is being implemented.\n",
    "\n",
    "One thing that is is clear when comparing the scalled data in red with the unscaled data in blue is that we have much lower variance explained by each addtional component for the first 10 or so components.\n",
    "\n",
    "### Plotting Data using Components"
   ]
  },
  {
   "cell_type": "code",
   "execution_count": 5,
   "id": "c7fb0021",
   "metadata": {},
   "outputs": [
    {
     "data": {
      "image/png": "[encoded data removed]",
      "text/plain": [
       "<Figure size 800x500 with 2 Axes>"
      ]
     },
     "metadata": {},
     "output_type": "display_data"
    }
   ],
   "source": [
    "from matplotlib.colors import ListedColormap\n",
    "# Pulling Cancer Label names \n",
    "classes = data['Class'].unique().tolist()\n",
    "labels = data['Class']\n",
    "\n",
    "#print(components.shape,labels.shape)\n",
    "# Pulling Colors for each cancer in label\n",
    "cmap = ListedColormap(plt.rcParams['axes.prop_cycle'].by_key()['color'][:len(classes)])\n",
    "\n",
    "# Creating map\n",
    "color_map = {cls: cmap(i) for i, cls in enumerate(classes)}\n",
    "\n",
    "# Initializing plot\n",
    "fig, axes = plt.subplots(1, 2, figsize=(8, 5), constrained_layout=True)\n",
    "axL, axR = axes\n",
    "\n",
    "# Creating a mask for color graphing and graphing based on mask\n",
    "for cancer in classes:\n",
    "    mask = (labels == cancer)\n",
    "    axL.scatter(components[mask,0],components[mask,1],s=20,label=str(cancer),facecolors=color_map[cancer])\n",
    "    axR.scatter(scaled_components[mask,0],scaled_components[mask,1],s=20,label=str(cancer),facecolors=color_map[cancer])\n",
    "    \n",
    "\n",
    "# Labels,Legened, Config\n",
    "\n",
    "## Unscaled Data\n",
    "axL.set_xlabel(f\"PC1 ({var_explained[0]:.2f}% var)\")\n",
    "axL.set_xticks([]) # Hiding xticks since they don't provide meaningful info\n",
    "axL.set_ylabel(f\"PC2 ({var_explained[1]:.2f}% var)\")\n",
    "axL.set_yticks([]) # Hiding yticks since they don't provide meaningful info\n",
    "axL.set_title(\"PCA (unscaled)\")\n",
    "\n",
    "## Scaled Data\n",
    "axR.set_xlabel(f\"PC1 ({scaled_var_explained[0]:.2f}% var)\")\n",
    "axR.set_xticks([]) # Hiding xticks since they don't provide meaningful info\n",
    "axR.set_ylabel(f\"PC2 ({scaled_var_explained[1]:.2f}% var)\")\n",
    "axR.set_yticks([]) # Hiding yticks since they don't provide meaningful info\n",
    "axR.set_title(\"PCA (scaled)\")\n",
    "\n",
    "## Global Plot params\n",
    "fig.suptitle(\"PCA of lncRNA by Cancer type\")\n",
    "fig.legend(title=\"Cancer type\",ncols=2,fontsize=8,loc=\"right\",bbox_to_anchor=(0.94, 0.7))\n",
    "plt.show()\n",
    "\n"
   ]
  },
  {
   "cell_type": "markdown",
   "id": "191951d3",
   "metadata": {},
   "source": [
    "I would like to note that I originally scaled the data before plotting. The data ended up bunching together and was harder to visualize. The results of that are evident in the left subplot. I expect that this is likely because there is a lot more similarity in the data than originally expected. To test this, it would help to compare similar samples for a model RNA set to this sample. The clustering the the given sample may be a result of similarities in the host species so the additional data could help eliminate that possibility. \n",
    "\n",
    "In the unscaled subplot above, we see the different regions belonging to the different cancer types. This view provides a more local view of the data distribution based on the actual data. There is clear separation for the PRAD and KIRC which lines up with last weeks analysis as these were the least likely cancers to be mislabeled. Further, the lung cancers (green and orange) seem to have the greatest degree of overlap alongside slight overlap with the thyroid cancer (purple). Our two components only account for a total 25% of the variance in the data however; so, I imagine that the first 10 components would be necessary to capture the topography of the data surface better. This is backed up by the scree plot above.\n",
    "\n",
    "Although this is not included in the scope of this project, I am going to plot a 3 component surface to see if the added axis adds more separation. However, this further analysis will focus on the unscaled data.\n",
    "### Extra analysis: Plotting on 3D (3-component) surface"
   ]
  },
  {
   "cell_type": "code",
   "execution_count": 8,
   "id": "81ee3310",
   "metadata": {},
   "outputs": [
    {
     "data": {
      "application/vnd.plotly.v1+json": {
       "config": {
        "plotlyServerURL": "https://plot.ly"
       },
       "data": [
        {
         "hovertemplate": "PC1=%{x:.3f}<br>PC2=%{y:.3f}<br>PC3=%{z:.3f}<br>Class=KIRC<extra></extra>",
         "marker": {
          "color": "#1f77b4",
          "opacity": 0.9,
          "size": 3
         },
         "mode": "markers",
         "name": "KIRC",
         "type": "scatter3d",
         "x": {
          "bdata": "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",
          "dtype": "f8"
         },
         "y": {
          "bdata": "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",
          "dtype": "f8"
         },
         "z": {
          "bdata": "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",
          "dtype": "f8"
         }
        },
        {
         "hovertemplate": "PC1=%{x:.3f}<br>PC2=%{y:.3f}<br>PC3=%{z:.3f}<br>Class=LUAD<extra></extra>",
         "marker": {
          "color": "#ff7f0e",
          "opacity": 0.9,
          "size": 3
         },
         "mode": "markers",
         "name": "LUAD",
         "type": "scatter3d",
         "x": {
          "bdata": "2ECUu6mZF8Dpb148gnoewAexo3Z29RLAXD5A6tfQ9b9MjJ+wcXEJwG6B9tnn9AHASYvsTm2rDMCBG5wbGyb6v+lSGlVAj+6/7xvqpWmDC8C0WYtP+JMUwFNVIYEGuxnALOcVsNc3AMBQ5yVy3YcUwKtwkTIGgyDAuAlUzkEgFcAD8vBXWjAcwB1XKP0FZuE/zbFoSjwB4b8oLnvuMXYRwJcDKiYBNxLAAxVVT3mVCcBk5gCIUCIXwAm6ZDEMJgrAgXrBs3LwAcBtopZ2N1kYwM4z8VuHdBPAzKTJlr+pD8BenCCqZS74vzuSaxyKyhjATV2YiWKoBcClDNhAkHQVwI41S2703A7ANiLRs6l79L9mUZJKpwMgwMguX+ujFBjA3Fy+Mncy5j/DjTHzdtsTwN8jsgOE0hjAr9fR75uNHcCkG+ggP5UTwCuElPPx8hzABcYKXY0t5b9tFMLIknoSwI66McmFBAXAYkvoHYXQEcCp0MG4URoWwCg2NPcmkPa/EG9rvNlEEcCaXCnhyNwZwIidpisVhQTANHzkEi7LE8ASqP+UYoUOwCz41Nr2qx7AyU/1DF7sEsCV+WCs7/P3v4fpGWgYyiDACURr4GMMEcB0aiGmhuEZwD3c7PTzFQDA+/yC2D5pHsD+oe0H/T0WwLL19Un+6xTA4DwlvBfF9r98dK2xReQBQJv24yg2Jw3AbhRLFyn/G8BASI6KrXwNwGEGGq9ZFgLAJpxiTwfQ9j9ZR4MjZc4ZwEw1X2O1UxPAn0O9MBa3AsDBTCsVcX4iwCEpnZZ7RBHAQpEc6RpdGsC5OXiBN5r3v4A3GGs4SQ9AkqiaLCH2IcCPACh6au8RwPYzfTVkHuK/+k0qsltc8b/aOscmq3/av2e+99aNlgfAp31xm9fhFMBz47Wh1J8HwFlRYAavCxDAaVpm7uuk87/G1VW4S+MDwIPu5wJuU/m/LXViaWndCsAn8d/0bAcZwD0eomb12BfARCzfdlQYDUBpTrr23rkFQNHsGjBGxQ3AcjMfUe1qAsAkTmnCE/r3vwAFe1SzZgrA/bGIUNW9DsC139RJ7fsTwJdlGcWXhw/A8jzuWPnE978/qN1SbbUHQF0NrhgevPe/W6VCjmLt/r8NlQk7G5/4v4Uc3q0YAQ3AAoOFBkNvGsAK2LsmTSkgwA2qC560TRPAJGj6TTLFEMBAzREdxJHpP0EhJaM8KxFA1muaczM4GED9R6yAnYYQwIY9AltGBY6/fUwXLv5FCsBmSM/FYO0PQGwAseZIp/C/Z5/L/AVL6L8CQN55ZrAUQF2m0QCfKgBAcBGq3/MfFEDhpCmK4AYawDLV4iW9NxLAfH1/E3iDEMC+BPnH+rOov7LCKCJwkBHAogFSO+DpE8Dnd29SDGWdv0d7gNUKWArAdNbCzAm4E8BzOWQtCQsOQPHRu7+0tRDAAcueJ2xbIcBJzJOQ7mEOwObmTtApRhHA4nCzuIPcHsBbPCkgohIbwMMBLIpc8gLAaQEBsnGpAMBArPtpGnz9Pyn4J7LShxrAYV+MElpJBMA7o/3QrJsUwNucnbVgCQ/ABjT65yfUDcBJHIohVGIgwKtJs+S3nOO/U6DimzAdGMBzOnGRm7rMPzLd6buyzw/ANyduRQ8DGcAA57a1UuQGwHtTn6l0PQ3ArRBm/TNVxT+BCi1vBJ37vykqWBRAm/w/jFoIrRXk4b9/w3Bi6Kr4v4N2iDXHUPg/fZTr2Y3Ry7+XfxwotR8EwI6Wulw8LRbAQtPm7LxaGcCXerdzPMb7v3NHDuyiIxXAptK0L6AREsBw0XpFel0aQICg4IJwCRHAyze6dhaIHMCPbd1jpL0QwD7+f7N9RBTAcYGMSBEcDsCJxk4FS2wawCsxiojJwgfAxlXCF+81EsD59fLhuD8EwNzHSUzQHf+/wzu92cveEsA0IRkNYYQIwE2mdtQ6DxfAb6mjLmxqCcD6qgiIIokVwJhHKUE0Z/k/pe9BQz9JCMC6gGasGEkUwHyMTqjTEA/A2MuClreAFMDyg/o3sQcQwKrmDvAtmxrA5PodZYI0C8DJvyxY+Z0UwJvVcD2DeBjAYr2ER9wPHMChJ6aLjoEJwHF2uYQV5hDAiWjE3UIO47/KdUfEJ7cHwMV6hl8fvtu/VYCMP0+AE8B1XM4UPvcdwBnDJBj/hwvAOauqW5R8/r/zIbtT/VL6P9bfAT2ORhvAuurlFS07DcD3i+AdGfsPwJkPhJaOBP6/in6m3vwuAUBL1x7SUnEKwB2l+SxfBNm/ouSgqJLQ9b9YVsWs5bMFwGT7dSlQFR/Amaw2jPKsA8AcTtTqQLsWwDlN3G1DjhjAyRCVKlC4FsB8laX0gIkRwFJZQLOWsgvArpuLrn0fC8C1qbKNHXH9v0VsnCzJ2eG/81sjE83a+r9c7Qeeg7UQwBy91RDRVwvAPMM00/PwBECKqQQlg+8GwAuxiS8JzMQ//xLKMmQMnT+n5YxrI5f0P5wv9k1XidS//JK6+7ysE8ASZrmBSWEUQENk/b1hKRHA2plYYbae8r/5TOg2U6oPwK9aZz5gjuK/GKjfnsAJF8CNmSuEVzUJwBGviUi4TgpAOMjd0EDGG8DJ4uWKUR/CP7LP/CZI8gbAMa55z77lAUD3aSZ7azYGwHYbkUdktwjA9B2oLZyZvz9LqpQGFDAOwGCkNymDRxvAEWCvhttAAsA7FEqZj49zv4+yaMC6PPC/pHeZ/tjdBUAs0uRsQzIFwItta9vyQuW/fR/jTGn/wL9a1waspwnLvzbuK5ummOi/hWGJB+EB+7+8gWlnJFgPwPusdOBOTco/kcOUNU546j8b6QW8aSMfwLOADbnKRgfAptc/d+G8DsDUH0hGAnHiP3vC4NYSyyHAL3Ye44ySEkBrzB4mIfL/v4/kwFTt/RHAnOCB2AQtIMBhWWmuxnkCwLmIy/+7e/m/609kbdx6DsBT9PmBtywQwFphgFydYhXAyy0semRwCcDKKe3KxHATwGWzZRnFeArALnEByvsi+7+JgaQRGZ4NwM4jnyDFZyHAxa11zqTuDsB7FPpyGiPpv5w758ribhnAZkFlfA1a97/i+44sR/oawAQznsakAiHAQpXJd6IQ7j+SVIfb3yziv6UGwDTMNfq/r2qC8dshE8Cd7zvCdOD+v3lUkkYWjxXAN2lusdLsCMCd7H3BGgzXv34CfAp+kg7AgOmW9iZKF8AkZy/3fc0GwIjN4K6ErxDAVdcX+TrVFMCoDD69ppIUwGsiGA1AkQDAcZurd6Je5r/B4kxgCkcRwHsEcPzOrw3A29u8Vz0s079D9lH5wtACQFqK0hEsSQ1AXa/cmtVIIcDMP4BmiIkRwP9Vh9QgUBvAGMA8I/FI+78P8Cn/jG70v+aBf/Mu+BPAkxGIDxoGIcBY0zK68HIDwIbSBUnKWwLAOQOlC8FH97+T4QKpavoSwBh6g5IWmxTAl0R+EV0X478q1OA47LIFwGzo2TcPJBTABFk+axUO9r+uJKgRfc4GwLkV5pPw8RzAq7KegTkwGsDOSzMuE6O6v7vDYXSObxXAfNB5BcJW+j+Er/L6ukwWwJ9pDYMzbg/AhssG/96Z3r+/L+kTcvD8v2POvL8PgQHAeBUcjAQcwT9Oz6j4DLHcP1cOp1iu0vC/8hQKwyBPEsBDRC4Uej7+PwVQ27jNORTAZZNDikHs4j+7ROCbc/bGv1oS9F8B/+W/m+fy+nRcCMAjYvhkW8ntP/HbeHEyYfY/nnlC9TAK9r9joJhtgZkKwHpBjjjvPBXAOqfg52/UFsCpx1PLILITwCzI0ch1AdC/ompIFqSXHMB8TcJgeMsAwOzRa0GnHgbAw0Fr3UVE/z/NJEQLIQkQwMvrqq+Rbv+/n2eIn6OD1z9m9GSZSk0ZwHD29+miVg3AGinL/vWNFcAjESP/Ws8GwD3M1//7gRLAdmz2n179vr+LKVJ9628TwBU4W/g+EhTAabIlKr1OFcAYl+kfwBMHQM+WcHNGowXAsBCPEDQLGsBwmmSCchkMwHSkxHY3Tw7A/03NQsqXGcBDpqPqnf3/v37x+pKJTgjAYn5b8OGRpT9nbMBsbpT8vy4muAs0/gfAN7dDpeeDvz/1RqxPcKAIwPhkF5bwluY/yqxDgFutEMBYIx5rjAkAwLY6yyH7IxDAatxL1FeTC8C0p2sq5k/1P8aY57neKfQ/Yhv/ycwtB8DhX0QJP1ULQGdPMr7leg3A+MngMu8m/r/pnq3dZ+gRwAx+ygnF5BLAwPoem8idEcDYFAAUONUTwEEelb7kiwVApTdMQI7FFcCY/XNvd1sRwH/wbz+QmQDAmxvp+2hh7D+VA1gTzOkewDxYCXKK/QTA864XqPsQDsBMkQliLxgKwGiYhRZiPwDAd95Jbl0rBEDE3F//LL3Rv5Trc+qQmug/bBsfHdVyGsCjFBCp4/n/v8n1z0/cyA7Ai7vkFNM7yD9jyG4ev4vZP/ig8S0blvK/xNMI22ETEcBSbmkQFJz6vzg9bMfHD8S/GYrTsTNX4r8vGI9cN+QSwPe74OplXAjAOdnXlke57j/OUGcOvXUUQBSYxwe8qQ/AGxqYkqfuCMApbNBOqQLmPxBWLgCv3hTAuCQHbe2Jxj/cjLCshmoRwEVUSbyKdgbAYRIs6MEIG8DUPGSXsQ8SwFTRxWqzbhTAEiFKGDWGAMBGIdluANwQwD3b69UNowbAL8X/ocrX6r/4UEJBsxEJwLvsqtyNWwrA9AylEhOEGMAa8Gu7eaL5vxtSSVgg0BPAnaZZL7hm6r8YPe/IGhoIwEpuuj4hKvM/6pgZfSXJFMAQ1Mz3YdsJwEug7JLFoPs/9XncAUIL5794DsH/QJwHwFedHEVkWv2/8T+LQts5BcBI/phSw70KwFteuBG4bRTAhP7tBUtF5r8rmXaZRFYRwMRiubnWRc+/l4u2N1pKC8AnwTo4sH//vxv8dQ+SUhDAD/fWw1eJBsCq0lKPjPUCQCBGyauJiO6/wzARYukHEsDemS9unV/tP5jKkD0nYhXAaK1s8nNL4L9sfDufPK4AwIZraxdC7Xy/G5s9owKrEsBpbnQzOY8SwGW3WuHMlAtABl6y1JXJ8D9l9wAF8FwSQCSQucwBzre/u1V1YITgyL/Fqukb3yQJwOnyGU3UHAPA9edXKWP5FcBhTooP/0oSwFE5jZSbnApAoSAK9mfHCcCdSp3Zjv70v3zleV9jtgTAg15wFSkk1D98Xbw9P1MPwNmbx/WKMem/Etw8F3lJ8787sPkQhEn+vxb7I1d5XQjAjaiu6NANGsCcgJWfJCoLwHGMzVHTJxHA3A5kgS6TB0Dr4OXkgOUVQIuBIsmMgADAVaVARye8EMAha2jO5FUEwHiyJ1mI9vS/q9QyAEKbAUANlMAYwDAHwJ4aH5HpzgVA3QMl3n5r7T8DDyO/AEcFwCqtTIXrGwXA",
          "dtype": "f8"
         },
         "y": {
          "bdata": "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",
          "dtype": "f8"
         },
         "z": {
          "bdata": "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",
          "dtype": "f8"
         }
        },
        {
         "hovertemplate": "PC1=%{x:.3f}<br>PC2=%{y:.3f}<br>PC3=%{z:.3f}<br>Class=LUSC<extra></extra>",
         "marker": {
          "color": "#2ca02c",
          "opacity": 0.9,
          "size": 3
         },
         "mode": "markers",
         "name": "LUSC",
         "type": "scatter3d",
         "x": {
          "bdata": "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",
          "dtype": "f8"
         },
         "y": {
          "bdata": "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",
          "dtype": "f8"
         },
         "z": {
          "bdata": "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",
          "dtype": "f8"
         }
        },
        {
         "hovertemplate": "PC1=%{x:.3f}<br>PC2=%{y:.3f}<br>PC3=%{z:.3f}<br>Class=PRAD<extra></extra>",
         "marker": {
          "color": "#d62728",
          "opacity": 0.9,
          "size": 3
         },
         "mode": "markers",
         "name": "PRAD",
         "type": "scatter3d",
         "x": {
          "bdata": "GbornQ3kO0AkGs+S/YE8QKl+CVnUnDRA/GtR+egaO0AxFq4k0K86QL+j+aBMFTtAUx0owfOQK0B5jPIkE686QM7fO+a2MjpA6XIlODKTOkCoqr31uW0bQBvjg8sHoTNAByDC2KrTMUD5B3RX2bMvQHVHBkuAfDdAUJPw4h4MNkAbUsp4+H4oQJmxDznnlDVAY2NHrFNgM0BRvJmwBkE3QGn01TYpvDZAGHbDqIsFM0Du/ij+c58nQKgAXVXzXzNAaz3rGGI0MkAvk8GXNcwpQB5bR+dR3ypAEeK7NocPMEANUkJWj4IxQHqwyJUm7jFAN0bfkLlDNUDdRrU4KhUxQGnk646k6zZAvbC1MGncNEC3xVbjMYY1QC8E83QgATBAJ9YhG6dnNEDbGeY7xsQwQF9q7GkAQDBARigYmnkeNECqmvI0zvcxQJ0Z1mppEjBAPgTijvwWNkBg3J+58YYuQNQSkBLICSlAfHhqjUKMNEC+cIygBREzQGYHFm7isStA16/b8Qr4KkDJaN6VT20wQHOymuMDQzJA2VurzkkAMkBfY5iKM+8zQNsenWd8cDVAwjDO1ev2M0BP1awRbGI0QP3HdT8JqjJA0tFOBv93NEB7GLUJ5RsvQG6aC1NbZzNAGUbBCa3qOEBfSfQtj3grQIcgnSlFgTJAw8Qgri8iLEBiM01XiRczQPjEzHXB/CpAWExUhicxMkCmZeFIrIgyQI86H0suDzVArR3XyRg3L0AzAcX5H2slQO5wXk1TOzRA44TYi+OOMEAMCFAlRac0QEMww56K8DBAvLf+AfijMkAgW/YNrSUyQHwj75CpeDRAm/rUmH90NEDW/lgUZHIwQM3XPNDY2DhAxMCE7S/JN0BEfBkTGiExQMRoNa7ExTBABLcExNzXNEDjMfvlJpU2QGBCvvPqGjJA/KU/PXZHOkBJKJ0fP2MxQLdDQ3nxBzNAR5zxBggBMkBOJSzYN8ExQEia7t5qYzRAWTNJtAabN0A1uXTyf+cxQN0xu9uujjlAn1DErag+L0Dz/h1uF3E2QG6Ra4zEPDJABqD1JIgNN0C5sIcItNowQExPY3E2oy5AtCd7OS0vNkB7jaZYCgkzQLbwZgrL1zVALRS+tETPO0DmqFY6/AU1QPTFwYuFbzpA+IL5cupoOEB9cqLoDGU5QN0V/0F9zzpA73jmUeUHMUC2SNxz5OE9QN7UiAeFqzVAlNA3PhBnJ0CJRJgAWTA3QA8NvSdgzTdArGx2j88SO0CFIQHSvSM8QMerg9u5cjpAcJ8Z411gPEALFMaUx901QLKQe/ZTSz5Atqux75OVOkCS+FKbQmo0QB3KaNdLtThASZa/nzWyNkAkTyLxiiY9QEQXklJdMDdA0oQnQCfCOEAgrx+R3VYzQG8Pc4g95DhA0s4ap9REOUC3WzN2cEQ4QGPzkf4i1TJA5zsLYdtVPEA4So6r+fgyQKul1Njb1SlAFsd/U1p5NkCu5Pvb960xQJqnaGF23DRApBU4GXkzKkADmGqyejI1QNZoFeAiATlAvOntfv8jOUDC+lfPQEM3QIFNQx/WvTFAqkhPwj+3NEA0WwZY8jA4QLNozI1sgDRArmw+MX1TNEBrTTg5Cf82QK2IiDFmAzRAOlOCmoozNkCeQUhJxgcxQIvtqCqVFTBAE8+FFDboN0DHi1WMtVY2QNq0nRBwTjxARt5okQaYM0Bpi+Ev7zU3QKVRF7nYQzVANOsSeb6oM0Bavin8394zQBxTYtVmBTNAaaGZC8DYNEAWmI30xxgxQGGg4D+UNzZAd8fRN7qjK0DdkSyUqkw0QFUq7miCGTNA1ol1zTmRMkD+xVF7nKA0QLj4SFpKkzhAv4fmITfNLkBJ1aUX6t8zQOjclFgljzNAVUkxLkJWOUAMeHYekzMyQGZ0BNv/kTZAZ+EqSr5qOkBTfBIjBns1QNLrKcQVkTZA1wugA8WKLEAjEUKRRu00QNk/QnQLFCRAMHJKaIeKMUApMoMM5CQ0QKLVGfGHYzdA6/h5QICjOECkW+Fol543QD4f076q6SpA42jAHautOkBkdLsGAdQ2QF4RlVy8KjRAOR3H204FOUDHUERB544WQJkV/vR0Tj5ArRfrfB0vKUBDb5wue2owQMMllpsHsyxANvApLR19MkBhmxalniszQECGGQrOEjBAcj3OJeTRMkDaWfyX67g0QMxdE4l4fjJAdH4M+7/8LUBuIhTZXNQxQGZuvY1vTDBAjWn7utBzN0CaT4H8fgQvQOIcJXFZGDNAIdu3afl9MEAtFk8SjtEzQOcnDLhmBzRAffzcaFxEMkDEukzueB80QEesVpjXzzJAbedBqVovNkDQJpv1sNkxQFSG22aPwzNAQIOhyvR7OED5IboUWqo5QEYLY/4wxjNAOfXmbSJtOUDsG/Es3Dw4QC6uBtJ7WzhACZNeVsBcNkCbJi9enHg4QJd9ojGiAzxAgk1X0P7qOECa/bywdko5QJbfR9POajdA6XGvDGiSMUAfYCJHwLMzQL4V3Yf2TTNAgFoaE9OVO0BK0MvRRGg0QOkSn7/BcDRA/MK5jzk4MkDeKuBfsAc6QNa6soKjfDlAKQJq2pJGOEDmQ3CFR/Q6QFwrFfMHpj1AZAOKbvGdOEDGmTpOXHE5QHx/UK37IjtAeyNAf5DXM0DrBpe2swQ7QNi3R9hU8z1Af831o99IM0BBPIsSHWw0QKHTpcx7oDZAyp6p8nWuNUB25oPoQIkzQMFifqXyUCtAKnZPUR7YLUDUkDeEozw1QC3EukXQPDlAeI5cTdR1NUDYBGRRZQU5QI0rFNFSTDZABgIpZxD3NkDP2DMa7VI8QOGuj3GwDThAeesBtNalOEBE4s/x/3I4QLhxoX2T6DxAyHBUirT4N0BOP+c7OywuQE/u0DWv0zFAGt5fDGeuN0BBdExXCNU4QDEHMFfPKz1ASS3+elbwOUC0P1u+KH84QO5x/nCQ1DdAXXL8tDvSOECUUb2KpeQ0QBshShnCEjVA/deKIAMZOkAIJdJpepYzQGwNyJVz2zFA87dkS5yJPEClOMsfuDU0QN4Vil7F8jNAGQZGXUNBMkChq/Vhjv4xQBpFKkFP7TpAWLjk6Yu5NUA8HY1aTJwwQHA5ZvYLWDdAbftCY3+7M0DAn/g7HF40QLtR6HYLxjhAOZ1gEo41QEC66ZwpNLo4QGqfnWdIGDpAn/DSDK2cNUBoJTfgHtE0QFQitvNdWzVAyqjLAGwiQECmPfQr3R1CQHn/aVtrATZAaWZj32uCMkARqsn4o3I5QOHQOYXpQDxAdPfvUTK9OUDpZDHt+hE2QLyRft6yhzhAOx2ojkdfO0B3iG4ziro3QJlPzFnKtTdAailDBNewNkB1ESeNSzE7QLY4YFihWjxAxMHjg8etPkB/8tURkR09QIZbnLeVGjhA00vXB87YOkDPj0RBNEs7QNHkuDlc8zpA5DKv+X9QOUCbpTyLO2Y3QOucmB90pzVA3VqTOgTqO0AY557Nfm43QKMm5NXoSDJADU6xFeeIOEDljSRF9QE6QBOOg2OdqDJA30saGXcIPUBEhTx4bZo5QIZcEVgnbDpAK2FZa4/wOEAh+Q+83BouQBHnb9VRUzlAdNiUe0LMOkAn4oA50GU6QBg3l82RwD1A6OsKfLJ6NkBmxFuwfpA4QFAswM02WTtAm6R+AC0mMkBeGSPexqQ2QNJC3WeGsDZAUMmSmVzRNkDL/gE9tWU1QEP6jmandTZAQy+eS1hbOEAomHSa+7o3QFApuO1qYzxATMJ+OzTtNEDVdEYEDGc9QHqbuLS+nDxAVwGAQleQPkAwWBjyBqE+QARivKfFWztAcB7g1SQJOkAEVldncNE0QC5fvJzjWStA9G2UK5xHNUADbX3on0c+QEJ/vu5GKDZAFd9FjArkO0BtQReEkS85QO3wtF/R1DhAnLZYeG3VPEBD9A0bGU45QJQ9XRa/3DlASweVgq4bN0CW7dMae0I0QCjiwBwkwDhA+S/AdRwRNEBn3/rJQFs2QMcJ0H2HKTFAyFS9o7grLUCgmv9v7bw2QLJRQ6bL9zJAhqvmly1tPkCI0xNtI4YzQL2xWXnXxjVAyFeO5w7iOEB/ykNHuok8QExJdgBl0D5ABzCHXwFpPUAjog9+uLYyQFQvgiHxMzZA0D/jVB0TOUC8ng7ooqkxQIEPAfiPezZAHIWCg4JVN0AxtIQ8IU03QH7QwFMgZjBAyE2Aa/MlN0CbCv8OdAw3QHcuKGcohjxA/BOD8NuGOkAkjrUZSo88QFgFB99c8zNAvBCMCeirM0B8vtjo80A/QOX3aktRTTxAKhO7rA7+M0DDv63YkvY7QC1s17eW8DdAfl7jkg97OEBjTDyZY903QBU7leRSOjxAwUTElRP2LUBVkt2kr2I7QOCTVCoO2DBAm045M3avOEBh0WH0xKAyQN3b8eWGmTpAuUc4ul6SN0AxMenAcmQ3QFT7Wg6lCzdA4KuoQZFZO0BSrB6yyrk6QOjOGe3K5jtA4sOr7HwWPkDLWCgylUs3QBsh9pUHKzBAAavaC9NxNkD5YeDjEZY+QD1wbW2lTjlATQWdmrVtNEA6wh9ygX4uQAS3AF5IGzFAdADpGmvOPEBW4Tn7KA1AQA38uMNgBThAtWzjNvi0NEDC3QQ7Zwg5QEwuJfnsqDVAIGuKtTSiO0Ak589hHW4wQOmzOUZ6BzZAjtyqCBp6O0Aqo5SOFfM4QCaW4wxrAjFAVrGLGUs1MUB4eOo7UqsxQLk8cXSxbzVAh/Kkvx7wO0D1FteWuu03QE/xcyiGWTpAiGAbJIOxNUDE5n/mPlw7QKoGh2NRQDhAvb6vQTZwNkA5ausvmvY7QEemm8+8yjlAqyuBccFUNECggCKIHcEzQKOXOsAOkTpAz1kDBRwzO0BIJTK7o6cxQHnV2Z8/JjlAxviwzW0oOkDM7lNSdFUyQF5foi/hijtA/tEQrkWBM0AC3vOhMTk0QCKbNnczODZA7CR5MhBJNkDxOeXcjqIzQBAcYJujnTNAJEvcH6KTN0BZuaJtMbs0QI0uMf3+TjNAqEsdYiE9NUDVU1bjsGo3QKdvZgq/KDZAYrSpRT7yMECAs9pyN480QG506ZtHRDRAAO6Jmo09MUD02sD+JagxQJIb/Va8mzhAomhz9kLrMEAOGjwblZ4wQDQ0V5dtyDRALxQIHkKcLkBK0Fb/5+U6QH/N5r4HvDFAoVzFnxTkI0B67r4N5t8qQJ0tRuq9QT1AAacepHSEMkA=",
          "dtype": "f8"
         },
         "y": {
          "bdata": "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",
          "dtype": "f8"
         },
         "z": {
          "bdata": "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",
          "dtype": "f8"
         }
        },
        {
         "hovertemplate": "PC1=%{x:.3f}<br>PC2=%{y:.3f}<br>PC3=%{z:.3f}<br>Class=THCA<extra></extra>",
         "marker": {
          "color": "#9467bd",
          "opacity": 0.9,
          "size": 3
         },
         "mode": "markers",
         "name": "THCA",
         "type": "scatter3d",
         "x": {
          "bdata": "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",
          "dtype": "f8"
         },
         "y": {
          "bdata": "7JWXQaYDBsBUp1jtu9UNQMKiopSa8htA1XFYh2FLI0A2IKyRQ7ISQN3UV+mSuxJAkQJ07OcOEsD01fAr5okYQE+M8lav+gdAS4uB/C8DFEAKm0a1VgUNQK/mF27eghpAgt4+9R6gH0AvBlFS/Y4QQGm3w3yBZx5AjCdgVHxhJUADDinYiaL9P/tZxmhyChxAc1r0OoJjI0AixJgJ8FMGQCwDg7CBbgBAJAnPS5SbKUBLbpBRcW0QQGTyeVMhziJAjmMXc/dcD0BG9g4Y+V/wP9w68GuMSNu/Iyyoqhd/G0B4w0swvrMPQDz/c4eAvSFA5bmZCPiGIkBuVmt2wVAYQIDDWSVsuAJAwsS45lb9JUAS4imLytDhP75WXVNKMxpAiy4WxQeuyD95Tcj9xjQeQHXRpN+6KQFAzHycxjlPMEBSo+xk6uMZQIlrk4r62+m/iVK7Q6ftHkDwTrJfV4wlQCEPpEOV0RVAnIjKzxsT4j95rAYnoRMFQMfC4hb23SNAqJdo7d4sD0AMnt7jR/QZQEWowk3n7RlAGWpuUQ8xDUBM0zE6AmIiQJhpIL+thgRA2y/wX4w/IkC0pz6GLH4eQC2PNyjPixlAXFzFAPt6L0Be5mTtjkYbQFBEAhG85x5Ay5lXDDxe0r8kH3nwoTP3P9jzDHvA5SRAS9Qvqf03I0C0l5SUgzYTQG9tfnTMyiNAy8c4CWztBUDXeqI8WL/av9tQIpqEy/E/k4QP63YnEEAg//YCj8LsPzwCPzXbxQ9AvoEvVTyo/b/dEx4jk2Lqv4ADiu5dLhpASWLGLhLlF0C7Dlt2mKgdQMvD5LgUMPU/QyNGd+jEEkDrGvx7XasPQMdHzQpFbglADgjSxVMxF0AUgvMFmEQVQFZai7VE1te/QUBuZsLLBcALlOOQy0EOQBLcGBvZrxBATXCjgx0J7r+u2uUHtQ4JQHxL2/u0GSZAiDKu9hNABEBCzVgXPU4ZQI/BW/ky8Pi/QLrfVKaOCUDKVv1bxqwQQG4nDlng8RVAkNPT5GceHEAiykY2XYgeQLJ0O+fUowRAbezkz4GqGEDhAwKr6K8IwFP1e9KALxFAgf+V/EnWDECDRmViNWr/P4M9/M39jR5AT9qAbyfT5j8IvE6+GdMEQLOUrqTHWgRAD3wxqQ/FDcCWj90f7gcWQB0QLUr8FPg/sXMHU5Xr/D/i3aHtihwSQGiLHqaMPBRAwGc2OVmkGkCMvpnAvB8bwK1Vu7EaDhNA50Qcui7XDECBXJ+47qsdQHyoxuviCCRARzgfGhN2B0Azwp45SScdQLThabn4Xw9AWo8ONgQsJkDJw1F5qvrgvwGff7jDPiJAQdtj501SHkD8g43f4WQlQJiPAHVUwhhAPcWryXNLGkAX+oxaJvvWP1mlwu4/TRlAtA/9H6T0AUBfyYgZd2AkQIfEp9ovhBJA75+X36bxGECks7c7yWgjQCFba71IyBVAbpJLl1BgC0ClH5EJARQCQKn0n4S7vxZAdwIsY+rpDkBjQYjXCFkZQFCmL6LpEhlArdhoz55E4D+I2pY9nWLuvxkvu50xtxhAy9L+S3nqBcDA5KuW9DMqQJLQfXPWDwtAY0FSRn+RBUAf5bomLkAsQCALWsXYVidACq4FWBMjG0Cm/kKSzJohQGJPacuCMSBASBcuKWajG0DARlB7ex0qQAdn4/jLQApALVZ5DjklG0DT0dxMKLsZQBfVz3YGEvo/AStFvP4KH0Av3QtxU5EEQFMIhBtlaRNAYQ7t49V9DUBekE8yW2Pxv8B91lHRJBVAOT00YGb3JkAabK527RMeQJ8mK3EiSvY/78aIEQRvGECEJkwdmucCQDQjWYUSACJAnlKJcN7NCcDcAqm7HVf7P7vLnyQDIPO/oGsnGG47D0CiXVK0h/wQQOieBW3W0gBARM7ff0VbGEAndPtDmWYnQDZyx3eMIxdABUGKs+BE/T/bvuH104TePwAUfZ+UUxRA2aezexYzFUCMghaV2uQiQBYN9FRO9gRAm74K5qOkJ0DuDi4yFmcpQOsRNwclegNA5jVBQKZbE0CAczmLVHoRQNhbvPYLjOM/8vyosy17CsCGQVy9zssHQC2exRnPtR1A026L+ykgCkAKCy2j7h3wPx5CmUsijxPAo45LwSuv1L8uYaujwFwTwM/DIXG/thRALO1x3ezyEEBghwp8V6T0v34iY2foZh5A/FbDCghtFEDECJu54jMKQKJIE1TsVRVAHtO0VVM48T9Tqy/M5Wz/v0uGRI2OERhAq00qhtYDEMAw5OVyjLIgQBI1teDpYAJAJgbbx+kM879lX+WIJSjgP4dg+giz8QBAeoJxA1/2FUDwdeEn9hbZv9swWX/T0tU/PTI6hUKSEkCQNS+KcIIgQKS+Hh+h/yBAra2+cNkg+7/zwkkuVgHxvyu5s1p+rhHAqGhxNFrNAcClRV18/0IJQESAv9b2JB9AZqSthOoaJEDqHmQLk9kLwKDhzSYD5ec/Gy+TDX41D0BrzIC7iw/xv95nTSPBNhhAUx/Cn0kF/78QgScW6YgeQCG7ha6cqBBA5Z14CIMy7b+urlHfc2sIQILsgK+9/RZAw7k3KGxJDMCZbnrNsWMgQD+cZ1FEiyBAZUbRoXlJE0AXgHlPRjMnQDpEqqIwkvQ/n6MRRH5zJkD35Zpqxf/nv+TeAKpWqipAetdq2w7gAsCteibefDkWQGBA8SpTwhlAhZegD2xGKEDesN0QYXoYQBdY+/AS1SNA1Zl0AJkqJ0DS1CVvUhDpv+ykmNxu1gjA9XEuospRDUAvkKpPkDUZQFfM/fvsNwVApjRifXZmJEBn7Vnr3/P/v11UaCX3tjJAlzP3yh9vGEC0+Gc5QY4eQCc1iik2YSNAv71UNkIL6j+MLvOglushQCcbU8yBOCRAMnlEGynfGUD8xyxFfZAQQL0OHxD/UQ5AyPldfgNVGUBUKEQhQhwQQJ5c6w9w8hxAyvYwwbTW67/zhLqJpkAHQCShZrn/+xRAQ89hTyKtI0AXYOZmEbXlv1mysFbRkRRAfoonoiAdJECqF8xd0scdQDI6Hj3BP/s/cIX2A3xcIEDXhgqWzMACQD0W703KixVAh66BTUtLJUA7CnFySxUhQIS2eSic6CJAQlthhL7DI0A2zONBL0AZQNJjnQA8uCdAGSqYu5oSEkCajvAKgDXfPy31ZPxifBNALA+h/GIOFkDIPbiD9XcTQIm8MBF92hlAcG4y7xBAG0A33+MU1UoRQDHTddDkVxBAOjuMubrKFEDFVQEeb2wOQC+WxuvrugpAvjilpaWFF0C+RdpmxMEBwL1WRyEqhxxAOPko/cmsD0DxkqOAqFomQN1GtLoX2wtA5+gNwV1zE0ANGSQTaskiQEwAMUxKlhtAYV4cEA7UIEDyAghxFOUKQI6CNkFReR9AFuAVqjQwGkD6ZchsRIsgQA2pe4F0vuM/XFjUa50qC0CNZopSI2cFwJj+iIX9CiJAkXRqz8oqE0BmU+0ag+cVQNNp+DVvT9Y/QN80ZN9zJECoPuq08pDgvzK3fQtgLRpA6BQTeP5eJEDvwrHGvIglQFoxfFjI6CVA+kjBlQvnKEBm/tPwlIstQGAuHAvutPo/yrc4+yskH0C7G59qagC4P2a47MtMSb4/n/vsaTa2DkCZIT9ha4glQH8YmOnBHhdAVVV1tNmy6T8pqmwnvSwSQEUcNiIHIQ9AKL4ewpOFAkABQ8nVSJApQJeMd8INxCJAKt3AYkjSIEArPqphirUdQNlsDGGtUQ/AOFBv1+MuFEBX1B6CO3gNQCvgrBI3zdi/rnX6kXEE9z/zA45ltsHwP3AvBYOGmBFArRp5XWxKH0B8mcQYQajrP7hw3R3cpPg/lNfPsVizAkDnijj/OSsKQJg3o9RxpP0/d2emcJ20LkAY6NMp3QccQNt1eoL7WiFAr/J8/4/PGUCZY+jLkb4GQI7r2oGMghFAsWrzz7tJFEC5ZZOSSDUVQI92ITWHERtAUkxjiY/YBMB8lkuqE2cDQNa1dEz1Ig1AX87EXyAvF0DMbJkN6WoCQKL43qn79+4/jNC7ffb+BEB88DIKyqIWQJqDMDnhfA1AiNWrB/ZeE0CxgjC41FILQGuM7IdzRgJAdoVPAJZPF8BsZdGVtG0eQOZhnhGKHwPABTOt8l5c+r9xljdkwxENQATQxVorVBFAR5N5VrPgDkBgxCHdMWQTQMj2OZRspwXATMWiHeqYGEBIbW1apeT2P5c7y50quSRA3k4XNnHa/z8XFNmOgUkgQP0d2sQjBhJAq7AJ2jGXHUAE7aF4cn3/vw0vA0tpiyJAr+UTNEN9+r+JOVC7Y+Dzv8MPsoV1NNQ/s3sfYrXo/z/cv9V/A6bSP7Tx8F4vzty/zWWQQC/iEUDafAEOjQT/P3RYeco5RwFAyhYvs88m8z+eqIYzPjwjQNLYElFrtNc/gW0BWPAvI0A/Yq3G91QJQD/H/RHcuiFAI5gV1AU2IkBmua1eUskdQD5piMKJpQxAj+gdMSfWIEC5yg4xB2r1PzpkM22t/QdAhKBIKgwQHUAwTBCqWdsoQDVRapGghR5ATPMLWtoHFUBQ9j9q79sOQBJ1bQCyahxA1iHuNxAaG0DOu3PWzkIMQPUV5EBGnR1AMEiRPM2jFkDEeFh91LkAQJxRwAf0hxpA1D/51rmAA0CTcWQLx7QTQKOie2YGvglANb/lYjMbDUDsXZt/FFonQCjkh8SdqhdAtRSvWNMb/D/FlYyg8PIgQB7HoALiTgBABI2KBNALIkD7GQ81TbYnQDB9Hw3QRBVAPOZ9lc/I/D+ui9SzY+z6PzmGe4ud7SJA7pjykFowCkAMmCee1o71vzRVeidh4RxAdOvING/TJUBZuim/FeoXQA7dfylcABJA2FWMpFVqFkCKntlUitoEwLcx+GGNLfU/ZGCgT3U0qj+d8xKFYNcEQOR2tuCQ6hNAlmBaO4H6FED5onyPtOTzP3Mxy/na1wZAWcwhdPzU/z9l5Hq8CIwgQIdm+heAoNk/Acbhvo90F0AA52iDNisiQJMKwrTC8BRAQPrkrbcYBEBDF/NK9toOQL1r7QuYlyNA1UcszDTHHECphd5vCt0WQL5HiAbQnhpAJBrxzXMBIkAzihR389YbQKZadkRnaAxA8SJwyR+NK0DOPS8aO6QgQDfqgTEctQ5A+gwCDCKlEkCrWqOLbuIaQI0NqzHxkwxAgLVOjs8LEkBageNfdq8bQF1fMnUz5BNAiUdjsY+HIEAQ9Bevtg8jQNiDTj2oRCZALgs9N49h1z+T1R64dH8LwDCacWJVSBNAH27kz1BOI0BwxPP1glgkQMsZ9iJ3nSJA",
          "dtype": "f8"
         },
         "z": {
          "bdata": "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",
          "dtype": "f8"
         }
        }
       ],
       "layout": {
        "legend": {
         "title": {
          "text": "Class"
         }
        },
        "margin": {
         "b": 0,
         "l": 0,
         "r": 0,
         "t": 0
        },
        "scene": {
         "aspectmode": "data",
         "xaxis": {
          "title": {
           "text": "PC1"
          }
         },
         "yaxis": {
          "title": {
           "text": "PC2"
          }
         },
         "zaxis": {
          "title": {
           "text": "PC3"
          }
         }
        },
        "template": {
         "data": {
          "bar": [
           {
            "error_x": {
             "color": "#2a3f5f"
            },
            "error_y": {
             "color": "#2a3f5f"
            },
            "marker": {
             "line": {
              "color": "white",
              "width": 0.5
             },
             "pattern": {
              "fillmode": "overlay",
              "size": 10,
              "solidity": 0.2
             }
            },
            "type": "bar"
           }
          ],
          "barpolar": [
           {
            "marker": {
             "line": {
              "color": "white",
              "width": 0.5
             },
             "pattern": {
              "fillmode": "overlay",
              "size": 10,
              "solidity": 0.2
             }
            },
            "type": "barpolar"
           }
          ],
          "carpet": [
           {
            "aaxis": {
             "endlinecolor": "#2a3f5f",
             "gridcolor": "#C8D4E3",
             "linecolor": "#C8D4E3",
             "minorgridcolor": "#C8D4E3",
             "startlinecolor": "#2a3f5f"
            },
            "baxis": {
             "endlinecolor": "#2a3f5f",
             "gridcolor": "#C8D4E3",
             "linecolor": "#C8D4E3",
             "minorgridcolor": "#C8D4E3",
             "startlinecolor": "#2a3f5f"
            },
            "type": "carpet"
           }
          ],
          "choropleth": [
           {
            "colorbar": {
             "outlinewidth": 0,
             "ticks": ""
            },
            "type": "choropleth"
           }
          ],
          "contour": [
           {
            "colorbar": {
             "outlinewidth": 0,
             "ticks": ""
            },
            "colorscale": [
             [
              0,
              "#0d0887"
             ],
             [
              0.1111111111111111,
              "#46039f"
             ],
             [
              0.2222222222222222,
              "#7201a8"
             ],
             [
              0.3333333333333333,
              "#9c179e"
             ],
             [
              0.4444444444444444,
              "#bd3786"
             ],
             [
              0.5555555555555556,
              "#d8576b"
             ],
             [
              0.6666666666666666,
              "#ed7953"
             ],
             [
              0.7777777777777778,
              "#fb9f3a"
             ],
             [
              0.8888888888888888,
              "#fdca26"
             ],
             [
              1,
              "#f0f921"
             ]
            ],
            "type": "contour"
           }
          ],
          "contourcarpet": [
           {
            "colorbar": {
             "outlinewidth": 0,
             "ticks": ""
            },
            "type": "contourcarpet"
           }
          ],
          "heatmap": [
           {
            "colorbar": {
             "outlinewidth": 0,
             "ticks": ""
            },
            "colorscale": [
             [
              0,
              "#0d0887"
             ],
             [
              0.1111111111111111,
              "#46039f"
             ],
             [
              0.2222222222222222,
              "#7201a8"
             ],
             [
              0.3333333333333333,
              "#9c179e"
             ],
             [
              0.4444444444444444,
              "#bd3786"
             ],
             [
              0.5555555555555556,
              "#d8576b"
             ],
             [
              0.6666666666666666,
              "#ed7953"
             ],
             [
              0.7777777777777778,
              "#fb9f3a"
             ],
             [
              0.8888888888888888,
              "#fdca26"
             ],
             [
              1,
              "#f0f921"
             ]
            ],
            "type": "heatmap"
           }
          ],
          "histogram": [
           {
            "marker": {
             "pattern": {
              "fillmode": "overlay",
              "size": 10,
              "solidity": 0.2
             }
            },
            "type": "histogram"
           }
          ],
          "histogram2d": [
           {
            "colorbar": {
             "outlinewidth": 0,
             "ticks": ""
            },
            "colorscale": [
             [
              0,
              "#0d0887"
             ],
             [
              0.1111111111111111,
              "#46039f"
             ],
             [
              0.2222222222222222,
              "#7201a8"
             ],
             [
              0.3333333333333333,
              "#9c179e"
             ],
             [
              0.4444444444444444,
              "#bd3786"
             ],
             [
              0.5555555555555556,
              "#d8576b"
             ],
             [
              0.6666666666666666,
              "#ed7953"
             ],
             [
              0.7777777777777778,
              "#fb9f3a"
             ],
             [
              0.8888888888888888,
              "#fdca26"
             ],
             [
              1,
              "#f0f921"
             ]
            ],
            "type": "histogram2d"
           }
          ],
          "histogram2dcontour": [
           {
            "colorbar": {
             "outlinewidth": 0,
             "ticks": ""
            },
            "colorscale": [
             [
              0,
              "#0d0887"
             ],
             [
              0.1111111111111111,
              "#46039f"
             ],
             [
              0.2222222222222222,
              "#7201a8"
             ],
             [
              0.3333333333333333,
              "#9c179e"
             ],
             [
              0.4444444444444444,
              "#bd3786"
             ],
             [
              0.5555555555555556,
              "#d8576b"
             ],
             [
              0.6666666666666666,
              "#ed7953"
             ],
             [
              0.7777777777777778,
              "#fb9f3a"
             ],
             [
              0.8888888888888888,
              "#fdca26"
             ],
             [
              1,
              "#f0f921"
             ]
            ],
            "type": "histogram2dcontour"
           }
          ],
          "mesh3d": [
           {
            "colorbar": {
             "outlinewidth": 0,
             "ticks": ""
            },
            "type": "mesh3d"
           }
          ],
          "parcoords": [
           {
            "line": {
             "colorbar": {
              "outlinewidth": 0,
              "ticks": ""
             }
            },
            "type": "parcoords"
           }
          ],
          "pie": [
           {
            "automargin": true,
            "type": "pie"
           }
          ],
          "scatter": [
           {
            "fillpattern": {
             "fillmode": "overlay",
             "size": 10,
             "solidity": 0.2
            },
            "type": "scatter"
           }
          ],
          "scatter3d": [
           {
            "line": {
             "colorbar": {
              "outlinewidth": 0,
              "ticks": ""
             }
            },
            "marker": {
             "colorbar": {
              "outlinewidth": 0,
              "ticks": ""
             }
            },
            "type": "scatter3d"
           }
          ],
          "scattercarpet": [
           {
            "marker": {
             "colorbar": {
              "outlinewidth": 0,
              "ticks": ""
             }
            },
            "type": "scattercarpet"
           }
          ],
          "scattergeo": [
           {
            "marker": {
             "colorbar": {
              "outlinewidth": 0,
              "ticks": ""
             }
            },
            "type": "scattergeo"
           }
          ],
          "scattergl": [
           {
            "marker": {
             "colorbar": {
              "outlinewidth": 0,
              "ticks": ""
             }
            },
            "type": "scattergl"
           }
          ],
          "scattermap": [
           {
            "marker": {
             "colorbar": {
              "outlinewidth": 0,
              "ticks": ""
             }
            },
            "type": "scattermap"
           }
          ],
          "scattermapbox": [
           {
            "marker": {
             "colorbar": {
              "outlinewidth": 0,
              "ticks": ""
             }
            },
            "type": "scattermapbox"
           }
          ],
          "scatterpolar": [
           {
            "marker": {
             "colorbar": {
              "outlinewidth": 0,
              "ticks": ""
             }
            },
            "type": "scatterpolar"
           }
          ],
          "scatterpolargl": [
           {
            "marker": {
             "colorbar": {
              "outlinewidth": 0,
              "ticks": ""
             }
            },
            "type": "scatterpolargl"
           }
          ],
          "scatterternary": [
           {
            "marker": {
             "colorbar": {
              "outlinewidth": 0,
              "ticks": ""
             }
            },
            "type": "scatterternary"
           }
          ],
          "surface": [
           {
            "colorbar": {
             "outlinewidth": 0,
             "ticks": ""
            },
            "colorscale": [
             [
              0,
              "#0d0887"
             ],
             [
              0.1111111111111111,
              "#46039f"
             ],
             [
              0.2222222222222222,
              "#7201a8"
             ],
             [
              0.3333333333333333,
              "#9c179e"
             ],
             [
              0.4444444444444444,
              "#bd3786"
             ],
             [
              0.5555555555555556,
              "#d8576b"
             ],
             [
              0.6666666666666666,
              "#ed7953"
             ],
             [
              0.7777777777777778,
              "#fb9f3a"
             ],
             [
              0.8888888888888888,
              "#fdca26"
             ],
             [
              1,
              "#f0f921"
             ]
            ],
            "type": "surface"
           }
          ],
          "table": [
           {
            "cells": {
             "fill": {
              "color": "#EBF0F8"
             },
             "line": {
              "color": "white"
             }
            },
            "header": {
             "fill": {
              "color": "#C8D4E3"
             },
             "line": {
              "color": "white"
             }
            },
            "type": "table"
           }
          ]
         },
         "layout": {
          "annotationdefaults": {
           "arrowcolor": "#2a3f5f",
           "arrowhead": 0,
           "arrowwidth": 1
          },
          "autotypenumbers": "strict",
          "coloraxis": {
           "colorbar": {
            "outlinewidth": 0,
            "ticks": ""
           }
          },
          "colorscale": {
           "diverging": [
            [
             0,
             "#8e0152"
            ],
            [
             0.1,
             "#c51b7d"
            ],
            [
             0.2,
             "#de77ae"
            ],
            [
             0.3,
             "#f1b6da"
            ],
            [
             0.4,
             "#fde0ef"
            ],
            [
             0.5,
             "#f7f7f7"
            ],
            [
             0.6,
             "#e6f5d0"
            ],
            [
             0.7,
             "#b8e186"
            ],
            [
             0.8,
             "#7fbc41"
            ],
            [
             0.9,
             "#4d9221"
            ],
            [
             1,
             "#276419"
            ]
           ],
           "sequential": [
            [
             0,
             "#0d0887"
            ],
            [
             0.1111111111111111,
             "#46039f"
            ],
            [
             0.2222222222222222,
             "#7201a8"
            ],
            [
             0.3333333333333333,
             "#9c179e"
            ],
            [
             0.4444444444444444,
             "#bd3786"
            ],
            [
             0.5555555555555556,
             "#d8576b"
            ],
            [
             0.6666666666666666,
             "#ed7953"
            ],
            [
             0.7777777777777778,
             "#fb9f3a"
            ],
            [
             0.8888888888888888,
             "#fdca26"
            ],
            [
             1,
             "#f0f921"
            ]
           ],
           "sequentialminus": [
            [
             0,
             "#0d0887"
            ],
            [
             0.1111111111111111,
             "#46039f"
            ],
            [
             0.2222222222222222,
             "#7201a8"
            ],
            [
             0.3333333333333333,
             "#9c179e"
            ],
            [
             0.4444444444444444,
             "#bd3786"
            ],
            [
             0.5555555555555556,
             "#d8576b"
            ],
            [
             0.6666666666666666,
             "#ed7953"
            ],
            [
             0.7777777777777778,
             "#fb9f3a"
            ],
            [
             0.8888888888888888,
             "#fdca26"
            ],
            [
             1,
             "#f0f921"
            ]
           ]
          },
          "colorway": [
           "#636efa",
           "#EF553B",
           "#00cc96",
           "#ab63fa",
           "#FFA15A",
           "#19d3f3",
           "#FF6692",
           "#B6E880",
           "#FF97FF",
           "#FECB52"
          ],
          "font": {
           "color": "#2a3f5f"
          },
          "geo": {
           "bgcolor": "white",
           "lakecolor": "white",
           "landcolor": "white",
           "showlakes": true,
           "showland": true,
           "subunitcolor": "#C8D4E3"
          },
          "hoverlabel": {
           "align": "left"
          },
          "hovermode": "closest",
          "mapbox": {
           "style": "light"
          },
          "paper_bgcolor": "white",
          "plot_bgcolor": "white",
          "polar": {
           "angularaxis": {
            "gridcolor": "#EBF0F8",
            "linecolor": "#EBF0F8",
            "ticks": ""
           },
           "bgcolor": "white",
           "radialaxis": {
            "gridcolor": "#EBF0F8",
            "linecolor": "#EBF0F8",
            "ticks": ""
           }
          },
          "scene": {
           "xaxis": {
            "backgroundcolor": "white",
            "gridcolor": "#DFE8F3",
            "gridwidth": 2,
            "linecolor": "#EBF0F8",
            "showbackground": true,
            "ticks": "",
            "zerolinecolor": "#EBF0F8"
           },
           "yaxis": {
            "backgroundcolor": "white",
            "gridcolor": "#DFE8F3",
            "gridwidth": 2,
            "linecolor": "#EBF0F8",
            "showbackground": true,
            "ticks": "",
            "zerolinecolor": "#EBF0F8"
           },
           "zaxis": {
            "backgroundcolor": "white",
            "gridcolor": "#DFE8F3",
            "gridwidth": 2,
            "linecolor": "#EBF0F8",
            "showbackground": true,
            "ticks": "",
            "zerolinecolor": "#EBF0F8"
           }
          },
          "shapedefaults": {
           "line": {
            "color": "#2a3f5f"
           }
          },
          "ternary": {
           "aaxis": {
            "gridcolor": "#DFE8F3",
            "linecolor": "#A2B1C6",
            "ticks": ""
           },
           "baxis": {
            "gridcolor": "#DFE8F3",
            "linecolor": "#A2B1C6",
            "ticks": ""
           },
           "bgcolor": "white",
           "caxis": {
            "gridcolor": "#DFE8F3",
            "linecolor": "#A2B1C6",
            "ticks": ""
           }
          },
          "title": {
           "x": 0.05
          },
          "xaxis": {
           "automargin": true,
           "gridcolor": "#EBF0F8",
           "linecolor": "#EBF0F8",
           "ticks": "",
           "title": {
            "standoff": 15
           },
           "zerolinecolor": "#EBF0F8",
           "zerolinewidth": 2
          },
          "yaxis": {
           "automargin": true,
           "gridcolor": "#EBF0F8",
           "linecolor": "#EBF0F8",
           "ticks": "",
           "title": {
            "standoff": 15
           },
           "zerolinecolor": "#EBF0F8",
           "zerolinewidth": 2
          }
         }
        }
       }
      }
     },
     "metadata": {},
     "output_type": "display_data"
    }
   ],
   "source": [
    "import plotly.graph_objects as go\n",
    "import matplotlib.colors as mcolors\n",
    "\n",
    "# Initializing three component PCA\n",
    "three_dimensional_pca = PCA(n_components=3)\n",
    "\n",
    "#Applying projection\n",
    "three_comp = three_dimensional_pca.fit_transform(feature_set)\n",
    "\n",
    "# Diagnostics\n",
    "three_dim_var_explained = three_dimensional_pca.explained_variance_ratio_\n",
    "\n",
    "color_map_plotly = {k: mcolors.to_hex(v) for k, v in color_map.items()}\n",
    "\n",
    "# Plotting interactive 3D plot\n",
    "fig = go.Figure()\n",
    "'''\n",
    "Using the plotly graph objects to plot interactive 3d mapping because I think this will give us a better sense of the topography of the data\n",
    "'''\n",
    "for cancer in classes:\n",
    "    mask = (labels == cancer)\n",
    "    fig.add_trace(go.Scatter3d(\n",
    "        x = three_comp[mask,0],\n",
    "        y = three_comp[mask,1],\n",
    "        z = three_comp[mask,2],\n",
    "        mode=\"markers\",\n",
    "        name=str(cancer),\n",
    "        marker=dict(size=3,opacity=0.9,color=color_map_plotly[cancer]),\n",
    "        hovertemplate=\"PC1=%{x:.3f}<br>PC2=%{y:.3f}<br>PC3=%{z:.3f}<br>Class=\"+str(cancer)+\"<extra></extra>\"\n",
    "    ))\n",
    "    \n",
    "fig.update_layout(\n",
    "    scene=dict(\n",
    "        xaxis_title = \"PC1\", yaxis_title = \"PC2\", zaxis_title = \"PC3\",\n",
    "        aspectmode=\"data\"\n",
    "    ),\n",
    "    template=\"plotly_white\",\n",
    "    margin=dict(l=0,r=0,t=0,b=0),\n",
    "    legend_title_text=\"Class\"\n",
    ")\n",
    "\n",
    "fig.show()\n"
   ]
  },
  {
   "cell_type": "markdown",
   "id": "61d6269a",
   "metadata": {},
   "source": [
    "The 3D view provides a better understanding of how the data is clustered. We can see an image taken from the interactive plot here:\n",
    "\n",
    "<img src=\"../reports/3d_PCA.png\" alt=\"My Image\" style=\"height: 500px; width:800px;\" />\n",
    "\n",
    "This shows us that the overlap between the lung cancers that we expected from HW_1. Further, there is a clearer spatial separation between the other cancer types.\n",
    "## Task 2\n",
    "Task 2: [25 points] Draw two violon plots – one with the values of PC1 and the other with\n",
    "PC2."
   ]
  },
  {
   "cell_type": "code",
   "execution_count": 22,
   "id": "88aef9e6",
   "metadata": {},
   "outputs": [
    {
     "data": {
      "text/plain": [
       "Text(0.5, 1.0, 'Violin Plot for Two-Component PCA of lncRNA data')"
      ]
     },
     "execution_count": 22,
     "metadata": {},
     "output_type": "execute_result"
    },
    {
     "data": {
      "image/png": "[encoded data removed]",
      "text/plain": [
       "<Figure size 640x480 with 1 Axes>"
      ]
     },
     "metadata": {},
     "output_type": "display_data"
    }
   ],
   "source": [
    "# Violin plot using matplotlib\n",
    "plt.violinplot(components,showmeans=False,showmedians=False)\n",
    "plt.xticks([1,2],[f\"PC1 ({var_explained[0]:.2f}% var)\",f\"PC2 ({var_explained[1]:.2f}% var)\"])\n",
    "plt.yticks([])\n",
    "plt.title(\"Violin Plot for Two-Component PCA of lncRNA data\")\n"
   ]
  },
  {
   "cell_type": "markdown",
   "id": "cce6a4cd",
   "metadata": {},
   "source": [
    "From the violin plots above we can see the distributions for each of the components. As expected, the plot for PC1 has a greater dispersion than PC2 since it explains more variance in the data. Both distributions are multimodel, however this data alone is not sufficient to explain wether this multimodality comes from the different cancer types or not. \n",
    "## Task 3\n",
    "Task 3: [25 points] Repeat task 1 using t-SNE library. Plot the data in reduced dimension using\n",
    "two t-SNE components (t-SNE 1 and t-SNE 2)."
   ]
  },
  {
   "cell_type": "code",
   "execution_count": null,
   "id": "b45683d6",
   "metadata": {},
   "outputs": [
    {
     "data": {
      "image/png": "[encoded data removed]",
      "text/plain": [
       "<Figure size 640x480 with 1 Axes>"
      ]
     },
     "metadata": {},
     "output_type": "display_data"
    }
   ],
   "source": [
    "from sklearn.manifold import TSNE\n",
    "\n",
    "# Initializng TSNE\n",
    "tsne = TSNE(n_components=2)\n",
    "\n",
    "# Applying projections\n",
    "tsne_components = tsne.fit_transform(feature_set)\n",
    "\n",
    "\n",
    "# Creating a mask for color graphing and graphing based on mask\n",
    "for cancer in classes:\n",
    "    mask = (labels == cancer)\n",
    "    plt.scatter(tsne_components[mask,0],tsne_components[mask,1],label=str(cancer))\n",
    "    \n",
    "\n",
    "# Labels,Legened, Config\n",
    "plt.xlabel(f\"TSNE_C1\")\n",
    "plt.xticks([]) # Hiding xticks since they don't provide meaningful info\n",
    "plt.ylabel(f\"TSNE_C2\")\n",
    "plt.yticks([]) # Hiding yticks since they don't provide meaningful info\n",
    "plt.title(\"T-SNE of lncRNA by Cancer type\")\n",
    "plt.legend(title=\"Cancer type\",ncols=2,fontsize=8,loc=\"upper right\")\n",
    "plt.show()\n"
   ]
  }
 ],
 "metadata": {
  "kernelspec": {
   "display_name": "pca-tsne-venv",
   "language": "python",
   "name": "python3"
  },
  "language_info": {
   "codemirror_mode": {
    "name": "ipython",
    "version": 3
   },
   "file_extension": ".py",
   "mimetype": "text/x-python",
   "name": "python",
   "nbconvert_exporter": "python",
   "pygments_lexer": "ipython3",
   "version": "3.13.5"
  }
 },
 "nbformat": 4,
 "nbformat_minor": 5
}
